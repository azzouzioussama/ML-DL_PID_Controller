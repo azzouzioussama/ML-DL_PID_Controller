{
 "cells": [
  {
   "cell_type": "markdown",
   "metadata": {},
   "source": [
    "## **Presented By:** \n",
    "### - Azzouzi Ousssama Abderraouf"
   ]
  },
  {
   "cell_type": "markdown",
   "metadata": {},
   "source": [
    "# 1- Imports"
   ]
  },
  {
   "cell_type": "code",
   "execution_count": 17,
   "metadata": {},
   "outputs": [],
   "source": [
    "import pandas as pd\n",
    "import numpy as np\n",
    "import matplotlib.pyplot as plt\n",
    "from sklearn.model_selection import train_test_split\n",
    "from sklearn.metrics import confusion_matrix, classification_report\n",
    "import matplotlib.pyplot as plt\n",
    "import numpy as np\n",
    "from sklearn.metrics import mean_squared_error, mean_absolute_error, r2_score\n",
    "from sklearn.model_selection import GridSearchCV\n",
    "import seaborn as sns\n",
    "from sklearn.preprocessing import StandardScaler\n",
    "from sklearn.preprocessing import MinMaxScaler\n",
    "\n"
   ]
  },
  {
   "cell_type": "markdown",
   "metadata": {},
   "source": [
    "# 2- loading datasets"
   ]
  },
  {
   "cell_type": "code",
   "execution_count": 24,
   "metadata": {},
   "outputs": [
    {
     "data": {
      "text/html": [
       "<div>\n",
       "<style scoped>\n",
       "    .dataframe tbody tr th:only-of-type {\n",
       "        vertical-align: middle;\n",
       "    }\n",
       "\n",
       "    .dataframe tbody tr th {\n",
       "        vertical-align: top;\n",
       "    }\n",
       "\n",
       "    .dataframe thead th {\n",
       "        text-align: right;\n",
       "    }\n",
       "</style>\n",
       "<table border=\"1\" class=\"dataframe\">\n",
       "  <thead>\n",
       "    <tr style=\"text-align: right;\">\n",
       "      <th></th>\n",
       "      <th>e</th>\n",
       "      <th>e_1</th>\n",
       "      <th>e_2</th>\n",
       "      <th>e_3</th>\n",
       "      <th>theta</th>\n",
       "      <th>ref</th>\n",
       "      <th>torque</th>\n",
       "    </tr>\n",
       "  </thead>\n",
       "  <tbody>\n",
       "    <tr>\n",
       "      <th>0</th>\n",
       "      <td>0.000000</td>\n",
       "      <td>0.000000</td>\n",
       "      <td>0.000000</td>\n",
       "      <td>0.000000</td>\n",
       "      <td>0.000000</td>\n",
       "      <td>0.000000</td>\n",
       "      <td>0.000000</td>\n",
       "    </tr>\n",
       "    <tr>\n",
       "      <th>1</th>\n",
       "      <td>0.006093</td>\n",
       "      <td>0.000000</td>\n",
       "      <td>0.000000</td>\n",
       "      <td>0.000000</td>\n",
       "      <td>0.002165</td>\n",
       "      <td>0.008258</td>\n",
       "      <td>13.100014</td>\n",
       "    </tr>\n",
       "    <tr>\n",
       "      <th>2</th>\n",
       "      <td>0.007670</td>\n",
       "      <td>0.006093</td>\n",
       "      <td>0.000000</td>\n",
       "      <td>0.000000</td>\n",
       "      <td>0.008835</td>\n",
       "      <td>0.016505</td>\n",
       "      <td>4.304472</td>\n",
       "    </tr>\n",
       "    <tr>\n",
       "      <th>3</th>\n",
       "      <td>0.008116</td>\n",
       "      <td>0.007670</td>\n",
       "      <td>0.006093</td>\n",
       "      <td>0.000000</td>\n",
       "      <td>0.016616</td>\n",
       "      <td>0.024732</td>\n",
       "      <td>2.108557</td>\n",
       "    </tr>\n",
       "    <tr>\n",
       "      <th>4</th>\n",
       "      <td>0.008146</td>\n",
       "      <td>0.008116</td>\n",
       "      <td>0.007670</td>\n",
       "      <td>0.006093</td>\n",
       "      <td>0.024783</td>\n",
       "      <td>0.032928</td>\n",
       "      <td>1.281677</td>\n",
       "    </tr>\n",
       "  </tbody>\n",
       "</table>\n",
       "</div>"
      ],
      "text/plain": [
       "          e       e_1       e_2       e_3     theta       ref     torque\n",
       "0  0.000000  0.000000  0.000000  0.000000  0.000000  0.000000   0.000000\n",
       "1  0.006093  0.000000  0.000000  0.000000  0.002165  0.008258  13.100014\n",
       "2  0.007670  0.006093  0.000000  0.000000  0.008835  0.016505   4.304472\n",
       "3  0.008116  0.007670  0.006093  0.000000  0.016616  0.024732   2.108557\n",
       "4  0.008146  0.008116  0.007670  0.006093  0.024783  0.032928   1.281677"
      ]
     },
     "execution_count": 24,
     "metadata": {},
     "output_type": "execute_result"
    }
   ],
   "source": [
    "df = pd.read_csv('simulation_data.csv')\n",
    "df.head()"
   ]
  },
  {
   "cell_type": "code",
   "execution_count": 25,
   "metadata": {},
   "outputs": [
    {
     "name": "stdout",
     "output_type": "stream",
     "text": [
      "<class 'pandas.core.frame.DataFrame'>\n",
      "RangeIndex: 100100 entries, 0 to 100099\n",
      "Data columns (total 7 columns):\n",
      " #   Column  Non-Null Count   Dtype  \n",
      "---  ------  --------------   -----  \n",
      " 0   e       100100 non-null  float64\n",
      " 1   e_1     100100 non-null  float64\n",
      " 2   e_2     100100 non-null  float64\n",
      " 3   e_3     100100 non-null  float64\n",
      " 4   theta   100100 non-null  float64\n",
      " 5   ref     100100 non-null  float64\n",
      " 6   torque  100100 non-null  float64\n",
      "dtypes: float64(7)\n",
      "memory usage: 5.3 MB\n"
     ]
    }
   ],
   "source": [
    "df.info()"
   ]
  },
  {
   "cell_type": "markdown",
   "metadata": {},
   "source": [
    "# 3- Data Preprocessing"
   ]
  },
  {
   "cell_type": "code",
   "execution_count": 26,
   "metadata": {},
   "outputs": [
    {
     "data": {
      "text/html": [
       "<div>\n",
       "<style scoped>\n",
       "    .dataframe tbody tr th:only-of-type {\n",
       "        vertical-align: middle;\n",
       "    }\n",
       "\n",
       "    .dataframe tbody tr th {\n",
       "        vertical-align: top;\n",
       "    }\n",
       "\n",
       "    .dataframe thead th {\n",
       "        text-align: right;\n",
       "    }\n",
       "</style>\n",
       "<table border=\"1\" class=\"dataframe\">\n",
       "  <thead>\n",
       "    <tr style=\"text-align: right;\">\n",
       "      <th></th>\n",
       "      <th>count</th>\n",
       "      <th>mean</th>\n",
       "      <th>std</th>\n",
       "      <th>min</th>\n",
       "      <th>25%</th>\n",
       "      <th>50%</th>\n",
       "      <th>75%</th>\n",
       "      <th>max</th>\n",
       "    </tr>\n",
       "  </thead>\n",
       "  <tbody>\n",
       "    <tr>\n",
       "      <th>e</th>\n",
       "      <td>100100.0</td>\n",
       "      <td>0.004267</td>\n",
       "      <td>0.025791</td>\n",
       "      <td>-0.067720</td>\n",
       "      <td>-0.009798</td>\n",
       "      <td>0.003026</td>\n",
       "      <td>0.018746</td>\n",
       "      <td>0.081675</td>\n",
       "    </tr>\n",
       "    <tr>\n",
       "      <th>e_1</th>\n",
       "      <td>100100.0</td>\n",
       "      <td>0.004265</td>\n",
       "      <td>0.025779</td>\n",
       "      <td>-0.067720</td>\n",
       "      <td>-0.009774</td>\n",
       "      <td>0.003005</td>\n",
       "      <td>0.018728</td>\n",
       "      <td>0.081675</td>\n",
       "    </tr>\n",
       "    <tr>\n",
       "      <th>e_2</th>\n",
       "      <td>100100.0</td>\n",
       "      <td>0.004263</td>\n",
       "      <td>0.025767</td>\n",
       "      <td>-0.067720</td>\n",
       "      <td>-0.009755</td>\n",
       "      <td>0.002978</td>\n",
       "      <td>0.018705</td>\n",
       "      <td>0.081675</td>\n",
       "    </tr>\n",
       "    <tr>\n",
       "      <th>e_3</th>\n",
       "      <td>100100.0</td>\n",
       "      <td>0.004262</td>\n",
       "      <td>0.025755</td>\n",
       "      <td>-0.067720</td>\n",
       "      <td>-0.009739</td>\n",
       "      <td>0.002955</td>\n",
       "      <td>0.018683</td>\n",
       "      <td>0.081675</td>\n",
       "    </tr>\n",
       "    <tr>\n",
       "      <th>theta</th>\n",
       "      <td>100100.0</td>\n",
       "      <td>0.073086</td>\n",
       "      <td>0.602516</td>\n",
       "      <td>-1.553709</td>\n",
       "      <td>-0.239285</td>\n",
       "      <td>0.062637</td>\n",
       "      <td>0.428545</td>\n",
       "      <td>1.553642</td>\n",
       "    </tr>\n",
       "    <tr>\n",
       "      <th>ref</th>\n",
       "      <td>100100.0</td>\n",
       "      <td>0.077353</td>\n",
       "      <td>0.626288</td>\n",
       "      <td>-1.569970</td>\n",
       "      <td>-0.250289</td>\n",
       "      <td>0.066335</td>\n",
       "      <td>0.447800</td>\n",
       "      <td>1.569975</td>\n",
       "    </tr>\n",
       "    <tr>\n",
       "      <th>torque</th>\n",
       "      <td>100100.0</td>\n",
       "      <td>0.644110</td>\n",
       "      <td>4.319833</td>\n",
       "      <td>-10.187520</td>\n",
       "      <td>-1.688881</td>\n",
       "      <td>0.480683</td>\n",
       "      <td>2.986944</td>\n",
       "      <td>135.356195</td>\n",
       "    </tr>\n",
       "  </tbody>\n",
       "</table>\n",
       "</div>"
      ],
      "text/plain": [
       "           count      mean       std        min       25%       50%       75%  \\\n",
       "e       100100.0  0.004267  0.025791  -0.067720 -0.009798  0.003026  0.018746   \n",
       "e_1     100100.0  0.004265  0.025779  -0.067720 -0.009774  0.003005  0.018728   \n",
       "e_2     100100.0  0.004263  0.025767  -0.067720 -0.009755  0.002978  0.018705   \n",
       "e_3     100100.0  0.004262  0.025755  -0.067720 -0.009739  0.002955  0.018683   \n",
       "theta   100100.0  0.073086  0.602516  -1.553709 -0.239285  0.062637  0.428545   \n",
       "ref     100100.0  0.077353  0.626288  -1.569970 -0.250289  0.066335  0.447800   \n",
       "torque  100100.0  0.644110  4.319833 -10.187520 -1.688881  0.480683  2.986944   \n",
       "\n",
       "               max  \n",
       "e         0.081675  \n",
       "e_1       0.081675  \n",
       "e_2       0.081675  \n",
       "e_3       0.081675  \n",
       "theta     1.553642  \n",
       "ref       1.569975  \n",
       "torque  135.356195  "
      ]
     },
     "execution_count": 26,
     "metadata": {},
     "output_type": "execute_result"
    }
   ],
   "source": [
    "df.describe().T"
   ]
  },
  {
   "cell_type": "code",
   "execution_count": 27,
   "metadata": {},
   "outputs": [
    {
     "name": "stdout",
     "output_type": "stream",
     "text": [
      "null values in the dataset: 0\n",
      "na values in the dataset: 0\n",
      "shape of the dataset: (100100, 7)\n",
      "data types of the dataset: e         float64\n",
      "e_1       float64\n",
      "e_2       float64\n",
      "e_3       float64\n",
      "theta     float64\n",
      "ref       float64\n",
      "torque    float64\n",
      "dtype: object\n",
      "columns of the dataset: Index(['e', 'e_1', 'e_2', 'e_3', 'theta', 'ref', 'torque'], dtype='object')\n"
     ]
    }
   ],
   "source": [
    "# df.isnull().sum(), df.isna().sum(), df.shape, df.dtypes, df.columns, df.nunique()\n",
    "\n",
    "print('null values in the dataset:', df.isnull().sum().sum())\n",
    "print('na values in the dataset:', df.isna().sum().sum())\n",
    "print('shape of the dataset:', df.shape)\n",
    "print('data types of the dataset:', df.dtypes)\n",
    "print('columns of the dataset:', df.columns)\n",
    "# print('unique values in the dataset:', df.nunique())\n"
   ]
  },
  {
   "cell_type": "markdown",
   "metadata": {},
   "source": [
    "# 4- Feature Selection"
   ]
  },
  {
   "cell_type": "code",
   "execution_count": 29,
   "metadata": {},
   "outputs": [],
   "source": [
    "# normalizing the data\n",
    "scaler = MinMaxScaler()\n",
    "# df = scaler.fit_transform(df)\n",
    "\n",
    "target = df['torque']\n",
    "\n",
    "# features to drop\n",
    "redundant_features = ['torque', 'e_1', 'e_2', 'e_3']\n",
    "\n",
    "features = df.drop(columns=redundant_features)\n",
    "\n"
   ]
  },
  {
   "cell_type": "code",
   "execution_count": 30,
   "metadata": {},
   "outputs": [
    {
     "data": {
      "text/plain": [
       "(               e     theta       ref\n",
       " 0       0.000000  0.000000  0.000000\n",
       " 1       0.006093  0.002165  0.008258\n",
       " 2       0.007670  0.008835  0.016505\n",
       " 3       0.008116  0.016616  0.024732\n",
       " 4       0.008146  0.024783  0.032928\n",
       " ...          ...       ...       ...\n",
       " 100095 -0.000163  0.198396  0.198232\n",
       " 100096 -0.000596  0.183851  0.183255\n",
       " 100097 -0.001022  0.168656  0.167634\n",
       " 100098 -0.001442  0.152867  0.151425\n",
       " 100099 -0.001854  0.136539  0.134685\n",
       " \n",
       " [100100 rows x 3 columns],\n",
       " 0          0.000000\n",
       " 1         13.100014\n",
       " 2          4.304472\n",
       " 3          2.108557\n",
       " 4          1.281677\n",
       "             ...    \n",
       " 100095    -0.900993\n",
       " 100096    -0.954346\n",
       " 100097    -1.005765\n",
       " 100098    -1.055079\n",
       " 100099    -1.102111\n",
       " Name: torque, Length: 100100, dtype: float64)"
      ]
     },
     "execution_count": 30,
     "metadata": {},
     "output_type": "execute_result"
    }
   ],
   "source": [
    "features, target"
   ]
  },
  {
   "cell_type": "code",
   "execution_count": 31,
   "metadata": {},
   "outputs": [
    {
     "data": {
      "text/plain": [
       "((80080, 3), (20020, 3), (80080,), (20020,))"
      ]
     },
     "execution_count": 31,
     "metadata": {},
     "output_type": "execute_result"
    }
   ],
   "source": [
    "X_train, X_test, y_train, y_test = train_test_split(features, target, test_size=0.2, shuffle=False)\n",
    "\n",
    "X_train.shape, X_test.shape, y_train.shape, y_test.shape"
   ]
  },
  {
   "cell_type": "code",
   "execution_count": null,
   "metadata": {},
   "outputs": [],
   "source": []
  }
 ],
 "metadata": {
  "kernelspec": {
   "display_name": "tf",
   "language": "python",
   "name": "python3"
  },
  "language_info": {
   "codemirror_mode": {
    "name": "ipython",
    "version": 3
   },
   "file_extension": ".py",
   "mimetype": "text/x-python",
   "name": "python",
   "nbconvert_exporter": "python",
   "pygments_lexer": "ipython3",
   "version": "3.9.18"
  }
 },
 "nbformat": 4,
 "nbformat_minor": 2
}
